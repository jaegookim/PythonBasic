{
 "cells": [
  {
   "cell_type": "markdown",
   "metadata": {},
   "source": [
    "### <font color='red'> \\* 해당 자료의 소스는 '처음 시작하는 파이썬(Bill Lubanovic 지음, 최길우 옮김, 한빛미디어)' 도서 및 일부 다른 소스의 내용을 기반으로 작성된 내용임을 알립니다.  </font>\n",
    "\n",
    "[도서정보 확인하기](http://book.naver.com/bookdb/book_detail.nhn?bid=9899038)"
   ]
  },
  {
   "cell_type": "markdown",
   "metadata": {},
   "source": [
    "# Data Structure in Python\n",
    "\n",
    "부울(bool), 정수, 문자열 등의 데이터 타입들이 원자(atom)이라면,  \n",
    "이 원자들을 담고 있는 객체인 자료구조(data structure)는 분자이다.  "
   ]
  },
  {
   "cell_type": "markdown",
   "metadata": {},
   "source": [
    "## 1. 리스트(list) and 튜플(tuple)\n",
    "문자열이 시퀀스(sequence)라면, 리스트/튜플은 모든 것(어떠한 객체 상관없이 모두)의 시퀀스  \n",
    "리스트'[ ]'는 <font color = 'blue'>**변경가능(할당,수정,생성)**</font>하고,  \n",
    "튜플'( )'은 <font color = 'red'>**변경이 불가능**</font>하다.\n",
    "\n",
    "리스트는 데이터를 순차적으로 파악하는데 유용하며, 내용의 순서가 바뀔 수 있다"
   ]
  },
  {
   "cell_type": "code",
   "execution_count": 5,
   "metadata": {
    "collapsed": false
   },
   "outputs": [
    {
     "data": {
      "text/plain": [
       "[]"
      ]
     },
     "execution_count": 5,
     "metadata": {},
     "output_type": "execute_result"
    }
   ],
   "source": [
    "# 리스트 객체 생성\n",
    "emptylist = []\n",
    "emptylist "
   ]
  },
  {
   "cell_type": "code",
   "execution_count": 8,
   "metadata": {
    "collapsed": false
   },
   "outputs": [
    {
     "data": {
      "text/plain": [
       "[]"
      ]
     },
     "execution_count": 8,
     "metadata": {},
     "output_type": "execute_result"
    }
   ],
   "source": [
    "emptylist = list()\n",
    "emptylist"
   ]
  },
  {
   "cell_type": "code",
   "execution_count": 7,
   "metadata": {
    "collapsed": false
   },
   "outputs": [
    {
     "data": {
      "text/plain": [
       "['Monday', 'Tuesday', 'Wednesday', 'Thursday', 'Friday']"
      ]
     },
     "execution_count": 7,
     "metadata": {},
     "output_type": "execute_result"
    }
   ],
   "source": [
    "weekdays = ['Monday', 'Tuesday', 'Wednesday', 'Thursday', 'Friday']\n",
    "weekdays"
   ]
  },
  {
   "cell_type": "markdown",
   "metadata": {},
   "source": [
    "** list() 함수는 다른 데이터 타입을 리스트로 변환한다**"
   ]
  },
  {
   "cell_type": "code",
   "execution_count": 67,
   "metadata": {
    "collapsed": false,
    "scrolled": true
   },
   "outputs": [
    {
     "data": {
      "text/plain": [
       "['c', 'a', 't']"
      ]
     },
     "execution_count": 67,
     "metadata": {},
     "output_type": "execute_result"
    }
   ],
   "source": [
    "# 문자열을 리스트로 변환\n",
    "list('cat')"
   ]
  },
  {
   "cell_type": "code",
   "execution_count": 68,
   "metadata": {
    "collapsed": false
   },
   "outputs": [
    {
     "data": {
      "text/plain": [
       "['2018', '10', '14']"
      ]
     },
     "execution_count": 68,
     "metadata": {},
     "output_type": "execute_result"
    }
   ],
   "source": [
    "# 이전에 배웠던 split()함수는 문자열을 구분자로 나눠 리스트로 변환함\n",
    "today = '2018-10-14'\n",
    "today.split('-')"
   ]
  },
  {
   "cell_type": "code",
   "execution_count": 69,
   "metadata": {
    "collapsed": false
   },
   "outputs": [
    {
     "data": {
      "text/plain": [
       "['a', 'b', '', 'c', 'd', '', '', 'e']"
      ]
     },
     "execution_count": 69,
     "metadata": {},
     "output_type": "execute_result"
    }
   ],
   "source": [
    "splitme = 'a/b//c/d///e'\n",
    "splitme.split('/')"
   ]
  },
  {
   "cell_type": "code",
   "execution_count": 70,
   "metadata": {
    "collapsed": false
   },
   "outputs": [
    {
     "data": {
      "text/plain": [
       "['a/b', 'c/d', '/e']"
      ]
     },
     "execution_count": 70,
     "metadata": {},
     "output_type": "execute_result"
    }
   ],
   "source": [
    "splitme.split('//')"
   ]
  },
  {
   "cell_type": "code",
   "execution_count": 71,
   "metadata": {
    "collapsed": false
   },
   "outputs": [
    {
     "data": {
      "text/plain": [
       "['test1', 'test2', 'test3']"
      ]
     },
     "execution_count": 71,
     "metadata": {},
     "output_type": "execute_result"
    }
   ],
   "source": [
    "# 튜플은 리스트로 변환한다\n",
    "a_tuple = ('test1', 'test2', 'test3')\n",
    "list(a_tuple)"
   ]
  },
  {
   "cell_type": "markdown",
   "metadata": {},
   "source": [
    "** [offset]으로 항목 얻기 및 수정 **"
   ]
  },
  {
   "cell_type": "code",
   "execution_count": 93,
   "metadata": {
    "collapsed": true
   },
   "outputs": [],
   "source": [
    "family = ['father', 'mother', 'son', 'daughter']"
   ]
  },
  {
   "cell_type": "code",
   "execution_count": 94,
   "metadata": {
    "collapsed": false
   },
   "outputs": [
    {
     "name": "stdout",
     "output_type": "stream",
     "text": [
      "father father\n"
     ]
    }
   ],
   "source": [
    "print(family[0], family[-4])"
   ]
  },
  {
   "cell_type": "code",
   "execution_count": 95,
   "metadata": {
    "collapsed": false
   },
   "outputs": [
    {
     "name": "stdout",
     "output_type": "stream",
     "text": [
      "mother mother\n"
     ]
    }
   ],
   "source": [
    "print(family[1], family[-3])"
   ]
  },
  {
   "cell_type": "code",
   "execution_count": 104,
   "metadata": {
    "collapsed": true
   },
   "outputs": [],
   "source": [
    "alphabatA = ['arise', 'add', 'above']\n",
    "alphabatB = ['book', 'bird', 'bat']\n",
    "alphabatC = ['cook', 'cake', 'company']\n",
    "alphabats = [alphabatA, alphabatB, alphabatC]"
   ]
  },
  {
   "cell_type": "code",
   "execution_count": 105,
   "metadata": {
    "collapsed": false
   },
   "outputs": [
    {
     "data": {
      "text/plain": [
       "'bird'"
      ]
     },
     "execution_count": 105,
     "metadata": {},
     "output_type": "execute_result"
    }
   ],
   "source": [
    "alphabatB[1]"
   ]
  },
  {
   "cell_type": "code",
   "execution_count": 106,
   "metadata": {
    "collapsed": false
   },
   "outputs": [
    {
     "data": {
      "text/plain": [
       "'bird'"
      ]
     },
     "execution_count": 106,
     "metadata": {},
     "output_type": "execute_result"
    }
   ],
   "source": [
    "alphabats[1][1]"
   ]
  },
  {
   "cell_type": "code",
   "execution_count": 107,
   "metadata": {
    "collapsed": false
   },
   "outputs": [
    {
     "data": {
      "text/plain": [
       "'BIRD'"
      ]
     },
     "execution_count": 107,
     "metadata": {},
     "output_type": "execute_result"
    }
   ],
   "source": [
    "alphabats[1][1] = 'BIRD'\n",
    "alphabats[1][1]"
   ]
  },
  {
   "cell_type": "markdown",
   "metadata": {},
   "source": [
    "** slice로 항목 얻기 **"
   ]
  },
  {
   "cell_type": "code",
   "execution_count": 47,
   "metadata": {
    "collapsed": false
   },
   "outputs": [
    {
     "data": {
      "text/plain": [
       "['add', 'above']"
      ]
     },
     "execution_count": 47,
     "metadata": {},
     "output_type": "execute_result"
    }
   ],
   "source": [
    "alphabatA[1:]"
   ]
  },
  {
   "cell_type": "code",
   "execution_count": 48,
   "metadata": {
    "collapsed": false,
    "scrolled": true
   },
   "outputs": [
    {
     "data": {
      "text/plain": [
       "['arise', 'above']"
      ]
     },
     "execution_count": 48,
     "metadata": {},
     "output_type": "execute_result"
    }
   ],
   "source": [
    "alphabatA[::2]"
   ]
  },
  {
   "cell_type": "code",
   "execution_count": 49,
   "metadata": {
    "collapsed": false,
    "scrolled": true
   },
   "outputs": [
    {
     "data": {
      "text/plain": [
       "['above', 'arise']"
      ]
     },
     "execution_count": 49,
     "metadata": {},
     "output_type": "execute_result"
    }
   ],
   "source": [
    "alphabatA[::-2]"
   ]
  },
  {
   "cell_type": "markdown",
   "metadata": {},
   "source": [
    "** 리스트에 추가, 병합, 삭제"
   ]
  },
  {
   "cell_type": "code",
   "execution_count": 113,
   "metadata": {
    "collapsed": false
   },
   "outputs": [
    {
     "data": {
      "text/plain": [
       "['arise', 'add', 'above', 'APRTMENT', 'APPROVE']"
      ]
     },
     "execution_count": 113,
     "metadata": {},
     "output_type": "execute_result"
    }
   ],
   "source": [
    "# 리스트 마지막에 항목 추가하기\n",
    "alphabatA.append('APRTMENT')\n",
    "alphabatA.append('APPROVE')\n",
    "alphabatA"
   ]
  },
  {
   "cell_type": "code",
   "execution_count": 109,
   "metadata": {
    "collapsed": false
   },
   "outputs": [
    {
     "data": {
      "text/plain": [
       "['arise', 'add', 'above', 'APRTMENT', 'APPROVE', 'book', 'BIRD', 'bat']"
      ]
     },
     "execution_count": 109,
     "metadata": {},
     "output_type": "execute_result"
    }
   ],
   "source": [
    "# 리스트에 다른 리스트 병합하기\n",
    "alphabatA.extend(alphabatB)\n",
    "#alphabatA += alphabatB # 동일한 결과\n",
    "alphabatA"
   ]
  },
  {
   "cell_type": "code",
   "execution_count": 110,
   "metadata": {
    "collapsed": false
   },
   "outputs": [
    {
     "data": {
      "text/plain": [
       "['arise',\n",
       " 'add',\n",
       " 'above',\n",
       " 'APRTMENT',\n",
       " 'APPROVE',\n",
       " 'book',\n",
       " 'BIRD',\n",
       " 'bat',\n",
       " ['cook', 'cake', 'company']]"
      ]
     },
     "execution_count": 110,
     "metadata": {},
     "output_type": "execute_result"
    }
   ],
   "source": [
    "# append()를 사용하면 항목을 병합하지 않고, 리스트 자체를 추가함\n",
    "alphabatA.append(alphabatC)\n",
    "alphabatA"
   ]
  },
  {
   "cell_type": "code",
   "execution_count": 114,
   "metadata": {
    "collapsed": false
   },
   "outputs": [
    {
     "data": {
      "text/plain": [
       "['arise', 'addiction', 'add', 'above']"
      ]
     },
     "execution_count": 114,
     "metadata": {},
     "output_type": "execute_result"
    }
   ],
   "source": [
    "# offset과 insert()로 원하는 곳에 항목 추가하기\n",
    "alphabatA = ['arise', 'add', 'above']\n",
    "alphabatA.insert(1,'addiction')\n",
    "alphabatA"
   ]
  },
  {
   "cell_type": "code",
   "execution_count": 117,
   "metadata": {
    "collapsed": false
   },
   "outputs": [
    {
     "data": {
      "text/plain": [
       "['arise', 'add', 'above']"
      ]
     },
     "execution_count": 117,
     "metadata": {},
     "output_type": "execute_result"
    }
   ],
   "source": [
    "# offest으로 원하는 곳에 항목 삭제하기\n",
    "del alphabatA[1]\n",
    "alphabatA"
   ]
  },
  {
   "cell_type": "code",
   "execution_count": 118,
   "metadata": {
    "collapsed": false
   },
   "outputs": [
    {
     "data": {
      "text/plain": [
       "['arise', 'add']"
      ]
     },
     "execution_count": 118,
     "metadata": {},
     "output_type": "execute_result"
    }
   ],
   "source": [
    "# offest으로 마지막 항목 삭제하기\n",
    "# del은 리스트 함수가 아닌 python의 구문임\n",
    "del alphabatA[-1]\n",
    "alphabatA"
   ]
  },
  {
   "cell_type": "code",
   "execution_count": 119,
   "metadata": {
    "collapsed": false
   },
   "outputs": [
    {
     "data": {
      "text/plain": [
       "['arise', 'above']"
      ]
     },
     "execution_count": 119,
     "metadata": {},
     "output_type": "execute_result"
    }
   ],
   "source": [
    "# 값으로 항목 삭제하기\n",
    "alphabatA = ['arise', 'add', 'above']\n",
    "alphabatA.remove('add')\n",
    "alphabatA"
   ]
  },
  {
   "cell_type": "markdown",
   "metadata": {},
   "source": [
    "** pop()으로 유용한 기능 사용 **\n",
    "\n",
    "pop은 리스트에서 항목을 가져오는 동시에 그 항목을 삭제한다.  \n",
    "pop(0)은 리스트 head 부분을 실행  \n",
    "pop(), pop(-1)은 리스트 tail 부분을 실행\n",
    "\n",
    "pop을 이용하여 아래의 기능을 수행할 수 있다  \n",
    "pop(), pop(-1) -> stack(LIFO, Last In First Out, 후입선출)  \n",
    "pop(0) -> queue(FIFO, First In First Out, 선입선출)"
   ]
  },
  {
   "cell_type": "code",
   "execution_count": 122,
   "metadata": {
    "collapsed": false
   },
   "outputs": [
    {
     "data": {
      "text/plain": [
       "[2, 3, 4, 5, 6, 7, 8, 9, 10]"
      ]
     },
     "execution_count": 122,
     "metadata": {},
     "output_type": "execute_result"
    }
   ],
   "source": [
    "number = [1,2,3,4,5,6,7,8,9,10]\n",
    "number.pop(0)\n",
    "number"
   ]
  },
  {
   "cell_type": "code",
   "execution_count": 123,
   "metadata": {
    "collapsed": false
   },
   "outputs": [
    {
     "data": {
      "text/plain": [
       "[1, 2, 3, 4, 5, 6, 7, 8, 9]"
      ]
     },
     "execution_count": 123,
     "metadata": {},
     "output_type": "execute_result"
    }
   ],
   "source": [
    "number = [1,2,3,4,5,6,7,8,9,10]\n",
    "number.pop()\n",
    "number"
   ]
  },
  {
   "cell_type": "code",
   "execution_count": 124,
   "metadata": {
    "collapsed": false
   },
   "outputs": [
    {
     "data": {
      "text/plain": [
       "[1, 2, 3, 4, 5, 6, 7, 8, 9]"
      ]
     },
     "execution_count": 124,
     "metadata": {},
     "output_type": "execute_result"
    }
   ],
   "source": [
    "number = [1,2,3,4,5,6,7,8,9,10]\n",
    "number.pop(-1)\n",
    "number"
   ]
  },
  {
   "cell_type": "code",
   "execution_count": 130,
   "metadata": {
    "collapsed": false
   },
   "outputs": [
    {
     "data": {
      "text/plain": [
       "[1, 2, 3, 4, 5, 6, 7, 8, 10]"
      ]
     },
     "execution_count": 130,
     "metadata": {},
     "output_type": "execute_result"
    }
   ],
   "source": [
    "number = [1,2,3,4,5,6,7,8,9,10]\n",
    "number.pop(-2)\n",
    "number"
   ]
  },
  {
   "cell_type": "code",
   "execution_count": 125,
   "metadata": {
    "collapsed": false
   },
   "outputs": [
    {
     "data": {
      "text/plain": [
       "[1, 2]"
      ]
     },
     "execution_count": 125,
     "metadata": {},
     "output_type": "execute_result"
    }
   ],
   "source": [
    "# 후입선출\n",
    "number = []\n",
    "number.append(1)\n",
    "number.append(2)\n",
    "number.append(3)\n",
    "number.pop()\n",
    "number"
   ]
  },
  {
   "cell_type": "code",
   "execution_count": 126,
   "metadata": {
    "collapsed": false
   },
   "outputs": [
    {
     "data": {
      "text/plain": [
       "[2, 3]"
      ]
     },
     "execution_count": 126,
     "metadata": {},
     "output_type": "execute_result"
    }
   ],
   "source": [
    "# 선입선출\n",
    "number = []\n",
    "number.append(1)\n",
    "number.append(2)\n",
    "number.append(3)\n",
    "number.pop(0)\n",
    "number"
   ]
  },
  {
   "cell_type": "code",
   "execution_count": 129,
   "metadata": {
    "collapsed": false
   },
   "outputs": [
    {
     "data": {
      "text/plain": [
       "2"
      ]
     },
     "execution_count": 129,
     "metadata": {},
     "output_type": "execute_result"
    }
   ],
   "source": [
    "# tip : 값으로 리스트 오프셋을 알고 싶다면 index()를 이용하여 찾을 수 있다  \n",
    "alphabatA = ['arise', 'add', 'above']\n",
    "alphabatA.index('above')"
   ]
  },
  {
   "cell_type": "markdown",
   "metadata": {},
   "source": [
    "** in : 존재 여부 확인하기 **  \n",
    "항목의 순서에 상관없이 리스트의 존재여부만 확인하고자 하면 set(셋)은 유일한 값을 저장하고 조회하는데 있어 리스트 보다 훨씬 효율적이다"
   ]
  },
  {
   "cell_type": "code",
   "execution_count": 134,
   "metadata": {
    "collapsed": false
   },
   "outputs": [
    {
     "data": {
      "text/plain": [
       "False"
      ]
     },
     "execution_count": 134,
     "metadata": {},
     "output_type": "execute_result"
    }
   ],
   "source": [
    "words = ['arise', 'add', 'above', 'APARTMENT', 'APPROVE', 'book', 'BIRD', 'bat']\n",
    "'apartment' in words  # 대소문자 구분"
   ]
  },
  {
   "cell_type": "code",
   "execution_count": 135,
   "metadata": {
    "collapsed": false
   },
   "outputs": [
    {
     "data": {
      "text/plain": [
       "True"
      ]
     },
     "execution_count": 135,
     "metadata": {},
     "output_type": "execute_result"
    }
   ],
   "source": [
    "'APARTMENT' in words"
   ]
  },
  {
   "cell_type": "markdown",
   "metadata": {},
   "source": [
    "** count() : 값세기 **  \n",
    "리스트에 특정한 값이 몇 개가 존재하는가?"
   ]
  },
  {
   "cell_type": "code",
   "execution_count": 139,
   "metadata": {
    "collapsed": false,
    "scrolled": true
   },
   "outputs": [
    {
     "data": {
      "text/plain": [
       "3"
      ]
     },
     "execution_count": 139,
     "metadata": {},
     "output_type": "execute_result"
    }
   ],
   "source": [
    "words = ['arise', 'add', 'above', 'arise', 'APPROVE', 'APPROVE', 'above', 'arise']\n",
    "words.count('arise')"
   ]
  },
  {
   "cell_type": "markdown",
   "metadata": {},
   "source": [
    "** len() : 리스트 항목 수 세기 **"
   ]
  },
  {
   "cell_type": "code",
   "execution_count": 151,
   "metadata": {
    "collapsed": false
   },
   "outputs": [
    {
     "data": {
      "text/plain": [
       "8"
      ]
     },
     "execution_count": 151,
     "metadata": {},
     "output_type": "execute_result"
    }
   ],
   "source": [
    "words = ['arise', 'add', 'above', 'arise', 'APPROVE', 'APPROVE', 'above', 'arise']\n",
    "len(words)"
   ]
  },
  {
   "cell_type": "markdown",
   "metadata": {},
   "source": [
    "** sort() : 정렬하기 **  \n",
    "sort() - 리스트 자체를 내부적으로 정렬한다  \n",
    "sorted() - 리스트의 정렬된 복사본을 반환한다"
   ]
  },
  {
   "cell_type": "code",
   "execution_count": 148,
   "metadata": {
    "collapsed": false
   },
   "outputs": [
    {
     "data": {
      "text/plain": [
       "['APPROVE', 'APPROVE', 'above', 'above', 'add', 'arise', 'arise', 'arise']"
      ]
     },
     "execution_count": 148,
     "metadata": {},
     "output_type": "execute_result"
    }
   ],
   "source": [
    "words = ['arise', 'add', 'above', 'arise', 'APPROVE', 'APPROVE', 'above', 'arise']\n",
    "words.sort() # 오름차순\n",
    "words"
   ]
  },
  {
   "cell_type": "code",
   "execution_count": 150,
   "metadata": {
    "collapsed": false
   },
   "outputs": [
    {
     "data": {
      "text/plain": [
       "['arise', 'arise', 'arise', 'add', 'above', 'above', 'APPROVE', 'APPROVE']"
      ]
     },
     "execution_count": 150,
     "metadata": {},
     "output_type": "execute_result"
    }
   ],
   "source": [
    "words.sort(reverse=True) # 내림차순\n",
    "words"
   ]
  },
  {
   "cell_type": "code",
   "execution_count": 145,
   "metadata": {
    "collapsed": false
   },
   "outputs": [
    {
     "data": {
      "text/plain": [
       "['arise', 'add', 'above', 'arise', 'APPROVE', 'APPROVE', 'above', 'arise']"
      ]
     },
     "execution_count": 145,
     "metadata": {},
     "output_type": "execute_result"
    }
   ],
   "source": [
    "words = ['arise', 'add', 'above', 'arise', 'APPROVE', 'APPROVE', 'above', 'arise']\n",
    "sorted(words)  # 정렬이 안되었다. 반환받을 객체가 필요함. 다음 구문으로 대체하자\n",
    "words"
   ]
  },
  {
   "cell_type": "code",
   "execution_count": 146,
   "metadata": {
    "collapsed": false
   },
   "outputs": [
    {
     "data": {
      "text/plain": [
       "['APPROVE', 'APPROVE', 'above', 'above', 'add', 'arise', 'arise', 'arise']"
      ]
     },
     "execution_count": 146,
     "metadata": {},
     "output_type": "execute_result"
    }
   ],
   "source": [
    "words = ['arise', 'add', 'above', 'arise', 'APPROVE', 'APPROVE', 'above', 'arise']\n",
    "words2 = sorted(words)  \n",
    "words2"
   ]
  },
  {
   "cell_type": "markdown",
   "metadata": {},
   "source": [
    "** 할당(=)과 복사(copy()) **"
   ]
  },
  {
   "cell_type": "code",
   "execution_count": 166,
   "metadata": {
    "collapsed": false
   },
   "outputs": [
    {
     "data": {
      "text/plain": [
       "[1, 2, 3]"
      ]
     },
     "execution_count": 166,
     "metadata": {},
     "output_type": "execute_result"
    }
   ],
   "source": [
    "a = [1, 2, 3]\n",
    "b = a\n",
    "b"
   ]
  },
  {
   "cell_type": "code",
   "execution_count": 167,
   "metadata": {
    "collapsed": false
   },
   "outputs": [
    {
     "name": "stdout",
     "output_type": "stream",
     "text": [
      "a is  ['changed', 2, 3] , b is  ['changed', 2, 3]\n"
     ]
    }
   ],
   "source": [
    "# a가 변하면 b도 변한다. 왜? b는 a를 참조하고 있으니깐!!\n",
    "# 이런 경우에는 다음 줄 코드와 같이 복사를 해야한다.\n",
    "a[0] = 'changed'\n",
    "print('a is ', a, ',', 'b is ', b)"
   ]
  },
  {
   "cell_type": "code",
   "execution_count": 168,
   "metadata": {
    "collapsed": false
   },
   "outputs": [
    {
     "name": "stdout",
     "output_type": "stream",
     "text": [
      "a is  ['changed', 2, 3] , b is  [1, 2, 3]\n"
     ]
    }
   ],
   "source": [
    "# 1. copy() 사용\n",
    "a = [1, 2, 3]\n",
    "b = a.copy()\n",
    "a[0] = 'changed'\n",
    "print('a is ', a, ',', 'b is ', b)"
   ]
  },
  {
   "cell_type": "code",
   "execution_count": 169,
   "metadata": {
    "collapsed": false
   },
   "outputs": [
    {
     "name": "stdout",
     "output_type": "stream",
     "text": [
      "a is  ['changed', 2, 3] , b is  [1, 2, 3]\n"
     ]
    }
   ],
   "source": [
    "# 2. list() 변환 함수 사용\n",
    "a = [1, 2, 3]\n",
    "b = list(a)\n",
    "a[0] = 'changed'\n",
    "print('a is ', a, ',', 'b is ', b)"
   ]
  },
  {
   "cell_type": "code",
   "execution_count": 170,
   "metadata": {
    "collapsed": false
   },
   "outputs": [
    {
     "name": "stdout",
     "output_type": "stream",
     "text": [
      "a is  ['changed', 2, 3] , b is  [1, 2, 3]\n"
     ]
    }
   ],
   "source": [
    "# 3. 슬라이스(:) 사용\n",
    "a = [1, 2, 3]\n",
    "b = a[:]\n",
    "a[0] = 'changed'\n",
    "print('a is ', a, ',', 'b is ', b)"
   ]
  },
  {
   "cell_type": "markdown",
   "metadata": {},
   "source": [
    "## 2. 튜플(tuple) 자세히 알기  \n",
    "튜플은 리스트의 수정, 삭제 등의 함수를 가지고 있지 않고, 함수의 수가 매우 적다.  \n",
    "왜 튜플을 사용하는 것인가?  \n",
    "1. 튜플은 더 적은 공간을 사용한다\n",
    "2. 실수로 튜플의 항목이 손상될 염려가 없다. => 전역변수 처럼 상수 리스트로 사용할 때  \n",
    "3. 튜플을 딕셔너리 키로 사용할 수 있다. => 딕셔너리는 다음 절에서 확인 할 것  \n",
    "4. 네임드 튜플(named tuple)은 객체의 단순한 대안이 될 수 있다.  \n",
    "5. 함수의 인자들은 튜플로 전달된다.  \n",
    "6. 한 문장에서 값을 교환하기 위해 임시 변수를 사용하지 않아도 된다."
   ]
  },
  {
   "cell_type": "code",
   "execution_count": 172,
   "metadata": {
    "collapsed": false
   },
   "outputs": [
    {
     "data": {
      "text/plain": [
       "()"
      ]
     },
     "execution_count": 172,
     "metadata": {},
     "output_type": "execute_result"
    }
   ],
   "source": [
    "empty_tuple = ()\n",
    "empty_tuple"
   ]
  },
  {
   "cell_type": "code",
   "execution_count": 173,
   "metadata": {
    "collapsed": false
   },
   "outputs": [
    {
     "data": {
      "text/plain": [
       "()"
      ]
     },
     "execution_count": 173,
     "metadata": {},
     "output_type": "execute_result"
    }
   ],
   "source": [
    "empty_tuple = tuple()\n",
    "empty_tuple"
   ]
  },
  {
   "cell_type": "code",
   "execution_count": 182,
   "metadata": {
    "collapsed": false
   },
   "outputs": [
    {
     "name": "stdout",
     "output_type": "stream",
     "text": [
      "test , <class 'str'>\n"
     ]
    }
   ],
   "source": [
    "# 이 구문에서는 문자열로 생성되었다.\n",
    "# 한 개의 항목만으로 tuple을 생성시에는 꼭 ',' 를 붙여아 한다.\n",
    "one_tuple = 'test'\n",
    "print(one_tuple, ',', type(one_tuple))"
   ]
  },
  {
   "cell_type": "code",
   "execution_count": 183,
   "metadata": {
    "collapsed": false
   },
   "outputs": [
    {
     "name": "stdout",
     "output_type": "stream",
     "text": [
      "('test',) , <class 'tuple'>\n"
     ]
    }
   ],
   "source": [
    "one_tuple = 'test',\n",
    "print(one_tuple, ',', type(one_tuple))"
   ]
  },
  {
   "cell_type": "code",
   "execution_count": 184,
   "metadata": {
    "collapsed": false
   },
   "outputs": [
    {
     "name": "stdout",
     "output_type": "stream",
     "text": [
      "('1', '2', '3', '4') , <class 'tuple'>\n"
     ]
    }
   ],
   "source": [
    "# 여러개 항목을 ','를 이용하여 생성하였다면, 튜플로 생성된다.\n",
    "long_tuple = '1', '2', '3', '4'\n",
    "print(long_tuple, ',', type(long_tuple))"
   ]
  },
  {
   "cell_type": "code",
   "execution_count": 186,
   "metadata": {
    "collapsed": false
   },
   "outputs": [
    {
     "name": "stdout",
     "output_type": "stream",
     "text": [
      "('1', '2', '3', '4') , <class 'tuple'>\n"
     ]
    }
   ],
   "source": [
    "# 하지만 가독성을 위해 '()'를 붙히자\n",
    "long_tuple = ('1', '2', '3', '4')\n",
    "print(long_tuple, ',', type(long_tuple))"
   ]
  },
  {
   "cell_type": "markdown",
   "metadata": {},
   "source": [
    "** tuple unpacking **  \n",
    "튜플은 한 번에 여러 변수를 할당할 수 있다. 여러 변수를 한 번에 할당할 때 사용하면 편리하다"
   ]
  },
  {
   "cell_type": "code",
   "execution_count": 190,
   "metadata": {
    "collapsed": false
   },
   "outputs": [
    {
     "name": "stdout",
     "output_type": "stream",
     "text": [
      "test2\n"
     ]
    }
   ],
   "source": [
    "a, b, c = ('test1', 'test2', 'test3')\n",
    "print(b)"
   ]
  },
  {
   "cell_type": "code",
   "execution_count": 191,
   "metadata": {
    "collapsed": false
   },
   "outputs": [
    {
     "name": "stdout",
     "output_type": "stream",
     "text": [
      "test2\n"
     ]
    }
   ],
   "source": [
    "# 앞서 언급한 것 처럼 ()가 없어도 된다\n",
    "a, b, c = 'test1', 'test2', 'test3'\n",
    "print(b)"
   ]
  },
  {
   "cell_type": "code",
   "execution_count": 199,
   "metadata": {
    "collapsed": false
   },
   "outputs": [
    {
     "name": "stdout",
     "output_type": "stream",
     "text": [
      "a =  1 , b =  2\n",
      "a =  2 , b =  1\n"
     ]
    }
   ],
   "source": [
    "# 2 개의 변수의 값을 서로 변경하기\n",
    "# 임시 변수(temp)를 사용하며 구문이 길어진다.\n",
    "a = 1\n",
    "b = 2\n",
    "print('a = ',a, ',' , 'b = ', b)\n",
    "temp  = b\n",
    "b = a\n",
    "a = temp\n",
    "print('a = ',a, ',' , 'b = ', b)"
   ]
  },
  {
   "cell_type": "code",
   "execution_count": 201,
   "metadata": {
    "collapsed": false
   },
   "outputs": [
    {
     "name": "stdout",
     "output_type": "stream",
     "text": [
      "a =  1 , b =  2\n",
      "a =  2 , b =  1\n"
     ]
    }
   ],
   "source": [
    "a = 1\n",
    "b = 2\n",
    "print('a = ',a, ',' , 'b = ', b)\n",
    "a, b = (b, a)\n",
    "#a, b = b, a\n",
    "print('a = ',a, ',' , 'b = ', b)"
   ]
  },
  {
   "cell_type": "code",
   "execution_count": 202,
   "metadata": {
    "collapsed": false
   },
   "outputs": [
    {
     "data": {
      "text/plain": [
       "list"
      ]
     },
     "execution_count": 202,
     "metadata": {},
     "output_type": "execute_result"
    }
   ],
   "source": [
    "mylist = [1,2,3,4,5]\n",
    "type(mylist)"
   ]
  },
  {
   "cell_type": "code",
   "execution_count": 204,
   "metadata": {
    "collapsed": false
   },
   "outputs": [
    {
     "data": {
      "text/plain": [
       "tuple"
      ]
     },
     "execution_count": 204,
     "metadata": {},
     "output_type": "execute_result"
    }
   ],
   "source": [
    "# list를 tuple로 형 변환\n",
    "mytuple = tuple(mylist)\n",
    "type(mytuple)"
   ]
  },
  {
   "cell_type": "markdown",
   "metadata": {},
   "source": [
    "## 3. 딕셔너리(dictionary)\n",
    "\n",
    "딕셔너리는 리스트와 비슷하지만, 항목의 순서를 따지지 않고, 오프셋으로 항목을 선택할 수 없다.  \n",
    "**{key1:value1, key2:value2, ...}**의 셋으로 이루어진다.  \n",
    "여기 key에는 어떠한 데이터 타입도 가능한데, 대부분은 문자열이다.  \n",
    "다른 언어에서는 딕셔너리를 연관 배열, 해시, 해시맵 이라고 부르며,   \n",
    "파이썬에서는 dict(딕트)라고도 한다."
   ]
  },
  {
   "cell_type": "markdown",
   "metadata": {},
   "source": [
    "** dict 생성 **"
   ]
  },
  {
   "cell_type": "code",
   "execution_count": 208,
   "metadata": {
    "collapsed": false
   },
   "outputs": [
    {
     "data": {
      "text/plain": [
       "{}"
      ]
     },
     "execution_count": 208,
     "metadata": {},
     "output_type": "execute_result"
    }
   ],
   "source": [
    "\n",
    "emptydict = {}\n",
    "emptydict"
   ]
  },
  {
   "cell_type": "code",
   "execution_count": 207,
   "metadata": {
    "collapsed": false
   },
   "outputs": [
    {
     "data": {
      "text/plain": [
       "{}"
      ]
     },
     "execution_count": 207,
     "metadata": {},
     "output_type": "execute_result"
    }
   ],
   "source": [
    "emptydict = dict()\n",
    "emptydict"
   ]
  },
  {
   "cell_type": "code",
   "execution_count": 214,
   "metadata": {
    "collapsed": false
   },
   "outputs": [
    {
     "name": "stdout",
     "output_type": "stream",
     "text": [
      "[['a', 'b'], ['c', 'd'], ['e', 'f']] <class 'list'>\n"
     ]
    }
   ],
   "source": [
    "# list -> dict 형변환\n",
    "alphabatSet = [['a','b'],['c','d'],['e','f']]\n",
    "print(alphabatSet, type(alphabatSet))"
   ]
  },
  {
   "cell_type": "code",
   "execution_count": 213,
   "metadata": {
    "collapsed": false
   },
   "outputs": [
    {
     "name": "stdout",
     "output_type": "stream",
     "text": [
      "{'a': 'b', 'c': 'd', 'e': 'f'} <class 'dict'>\n"
     ]
    }
   ],
   "source": [
    "alphabatSet = dict(alphabatSet)\n",
    "print(alphabatSet, type(alphabatSet))"
   ]
  },
  {
   "cell_type": "code",
   "execution_count": 215,
   "metadata": {
    "collapsed": false
   },
   "outputs": [
    {
     "name": "stdout",
     "output_type": "stream",
     "text": [
      "(('a', 'b'), ('c', 'd'), ('e', 'f')) <class 'tuple'>\n"
     ]
    }
   ],
   "source": [
    "# tuple -> dict 형변환\n",
    "alphabatSet = (('a','b'),('c','d'),('e','f'))\n",
    "print(alphabatSet, type(alphabatSet))"
   ]
  },
  {
   "cell_type": "code",
   "execution_count": 216,
   "metadata": {
    "collapsed": false
   },
   "outputs": [
    {
     "name": "stdout",
     "output_type": "stream",
     "text": [
      "{'a': 'b', 'c': 'd', 'e': 'f'} <class 'dict'>\n"
     ]
    }
   ],
   "source": [
    "alphabatSet = dict(alphabatSet)\n",
    "print(alphabatSet, type(alphabatSet))"
   ]
  },
  {
   "cell_type": "code",
   "execution_count": 219,
   "metadata": {
    "collapsed": false
   },
   "outputs": [
    {
     "name": "stdout",
     "output_type": "stream",
     "text": [
      "(['a', 'b'], ['c', 'd'], ['e', 'f']) <class 'tuple'>\n"
     ]
    }
   ],
   "source": [
    "# tuple & list -> dict 형변환\n",
    "alphabatSet = (['a','b'],['c','d'],['e','f'])\n",
    "print(alphabatSet, type(alphabatSet))"
   ]
  },
  {
   "cell_type": "code",
   "execution_count": 220,
   "metadata": {
    "collapsed": false
   },
   "outputs": [
    {
     "name": "stdout",
     "output_type": "stream",
     "text": [
      "{'a': 'b', 'c': 'd', 'e': 'f'} <class 'dict'>\n"
     ]
    }
   ],
   "source": [
    "alphabatSet = dict(alphabatSet)\n",
    "print(alphabatSet, type(alphabatSet))"
   ]
  },
  {
   "cell_type": "code",
   "execution_count": 223,
   "metadata": {
    "collapsed": false
   },
   "outputs": [
    {
     "name": "stdout",
     "output_type": "stream",
     "text": [
      "('ab', 'cd', 'ef') <class 'tuple'>\n"
     ]
    }
   ],
   "source": [
    "# 두 문자 문자열 -> dict 형변환\n",
    "alphabatSet = ('ab','cd','ef')\n",
    "print(alphabatSet, type(alphabatSet))"
   ]
  },
  {
   "cell_type": "code",
   "execution_count": 224,
   "metadata": {
    "collapsed": false
   },
   "outputs": [
    {
     "name": "stdout",
     "output_type": "stream",
     "text": [
      "{'a': 'b', 'c': 'd', 'e': 'f'} <class 'dict'>\n"
     ]
    }
   ],
   "source": [
    "alphabatSet = dict(alphabatSet)\n",
    "print(alphabatSet, type(alphabatSet))"
   ]
  },
  {
   "cell_type": "markdown",
   "metadata": {},
   "source": [
    "** 항목 추가/변경/삭제 **\n",
    "\n",
    "키가 딕셔너리에 이미 존재하는 경우, 그 값은 새 값으로 대체되며,  \n",
    "존재하지 않는 경우, 새값이 키와 함께 dict에 추가된다  \n",
    "리스트와 달리 순서를 고려하지 않기 때문에 인덱스를 신경쓸 필요가 없다  \n",
    "딕셔너리의 키 순서는 임의적이며, 항목을 어떻게 추가하느지에 따라 그 순서가 달리질 수 있다"
   ]
  },
  {
   "cell_type": "code",
   "execution_count": 278,
   "metadata": {
    "collapsed": true
   },
   "outputs": [],
   "source": [
    "myfamily = {\n",
    "    'father':'JG Kim',\n",
    "    'mother':'SY Park',\n",
    "    'twin1':'GY Kim'\n",
    "}"
   ]
  },
  {
   "cell_type": "code",
   "execution_count": 279,
   "metadata": {
    "collapsed": false
   },
   "outputs": [
    {
     "data": {
      "text/plain": [
       "{'father': 'JG Kim',\n",
       " 'mother': 'SY Park',\n",
       " 'twin1': 'GY Kim',\n",
       " 'twin2': 'NY Park'}"
      ]
     },
     "execution_count": 279,
     "metadata": {},
     "output_type": "execute_result"
    }
   ],
   "source": [
    "# 누락 데이터 추가\n",
    "myfamily['twin2'] = 'NY Park'\n",
    "myfamily"
   ]
  },
  {
   "cell_type": "code",
   "execution_count": 280,
   "metadata": {
    "collapsed": false
   },
   "outputs": [
    {
     "data": {
      "text/plain": [
       "{'father': 'JG Kim', 'mother': 'SY Park', 'twin1': 'GY Kim', 'twin2': 'NY kim'}"
      ]
     },
     "execution_count": 280,
     "metadata": {},
     "output_type": "execute_result"
    }
   ],
   "source": [
    "# 그런데 성을 잘 못 입력하여 수정함\n",
    "# 이미 twin2키가 존재하기 때문에 값만 덮어쓴다.\n",
    "# 이유 : 딕셔너리 key는 unique해야 하기 때문이다.\n",
    "myfamily['twin2'] = 'NY kim'\n",
    "myfamily"
   ]
  },
  {
   "cell_type": "code",
   "execution_count": 281,
   "metadata": {
    "collapsed": false
   },
   "outputs": [
    {
     "data": {
      "text/plain": [
       "{'father': 'JAEGOO KIM',\n",
       " 'grandfather': 'SD Kim',\n",
       " 'grandmother': 'SA Song',\n",
       " 'mother': 'SY Park',\n",
       " 'twin1': 'GY Kim',\n",
       " 'twin2': 'NY kim'}"
      ]
     },
     "execution_count": 281,
     "metadata": {},
     "output_type": "execute_result"
    }
   ],
   "source": [
    "# 할아버지, 할머니도 추가\n",
    "# 먄약 myfamily_add에 myfamily와 같은 키값이 있다면, 두번째 딕셔너리의 myfamily_add가 업데이트 된다\n",
    "myfamily_add = {\n",
    "    'grandfather':'SD Kim',\n",
    "    'grandmother':'SA Song',\n",
    "    'father':'JAEGOO KIM'\n",
    "}\n",
    "myfamily.update(myfamily_add)\n",
    "myfamily"
   ]
  },
  {
   "cell_type": "code",
   "execution_count": 282,
   "metadata": {
    "collapsed": false
   },
   "outputs": [
    {
     "data": {
      "text/plain": [
       "{'grandfather': 'SD Kim',\n",
       " 'grandmother': 'SA Song',\n",
       " 'mother': 'SY Park',\n",
       " 'twin1': 'GY Kim',\n",
       " 'twin2': 'NY kim'}"
      ]
     },
     "execution_count": 282,
     "metadata": {},
     "output_type": "execute_result"
    }
   ],
   "source": [
    "# 삭제하기\n",
    "del myfamily['father']\n",
    "myfamily"
   ]
  },
  {
   "cell_type": "code",
   "execution_count": 283,
   "metadata": {
    "collapsed": false
   },
   "outputs": [
    {
     "data": {
      "text/plain": [
       "True"
      ]
     },
     "execution_count": 283,
     "metadata": {},
     "output_type": "execute_result"
    }
   ],
   "source": [
    "# 딕셔너리에 키값이 존재하는지 확인\n",
    "'mother' in myfamily"
   ]
  },
  {
   "cell_type": "code",
   "execution_count": 284,
   "metadata": {
    "collapsed": false
   },
   "outputs": [
    {
     "data": {
      "text/plain": [
       "False"
      ]
     },
     "execution_count": 284,
     "metadata": {},
     "output_type": "execute_result"
    }
   ],
   "source": [
    "# value 값을 넣었을 경우에는 못 찾음\n",
    "'SY Park' in myfamily"
   ]
  },
  {
   "cell_type": "code",
   "execution_count": 285,
   "metadata": {
    "collapsed": false
   },
   "outputs": [
    {
     "data": {
      "text/plain": [
       "'SY Park'"
      ]
     },
     "execution_count": 285,
     "metadata": {},
     "output_type": "execute_result"
    }
   ],
   "source": [
    "myfamily.get('mother', 'Not in myfamily')"
   ]
  },
  {
   "cell_type": "code",
   "execution_count": 286,
   "metadata": {
    "collapsed": false
   },
   "outputs": [
    {
     "data": {
      "text/plain": [
       "'Not in myfamily'"
      ]
     },
     "execution_count": 286,
     "metadata": {},
     "output_type": "execute_result"
    }
   ],
   "source": [
    "# 옵션값에 해당 키가 없을 때 출력해줄 항목을 지정해준다.\n",
    "myfamily.get('father', 'Not in myfamily')"
   ]
  },
  {
   "cell_type": "code",
   "execution_count": 287,
   "metadata": {
    "collapsed": false
   },
   "outputs": [
    {
     "data": {
      "text/plain": [
       "dict_keys(['mother', 'twin1', 'twin2', 'grandfather', 'grandmother'])"
      ]
     },
     "execution_count": 287,
     "metadata": {},
     "output_type": "execute_result"
    }
   ],
   "source": [
    "# 모든 key 얻기\n",
    "# 리스트로 반환\n",
    "myfamily.keys()"
   ]
  },
  {
   "cell_type": "code",
   "execution_count": 288,
   "metadata": {
    "collapsed": false
   },
   "outputs": [
    {
     "data": {
      "text/plain": [
       "dict_values(['SY Park', 'GY Kim', 'NY kim', 'SD Kim', 'SA Song'])"
      ]
     },
     "execution_count": 288,
     "metadata": {},
     "output_type": "execute_result"
    }
   ],
   "source": [
    "# 모든 value 얻기\n",
    "# 리스트로 반환\n",
    "myfamily.values()"
   ]
  },
  {
   "cell_type": "code",
   "execution_count": 289,
   "metadata": {
    "collapsed": false
   },
   "outputs": [
    {
     "data": {
      "text/plain": [
       "{'grandfather': 'SD Kim',\n",
       " 'grandmother': 'SA Song',\n",
       " 'mother': 'SY Park',\n",
       " 'twin1': 'GY Kim',\n",
       " 'twin2': 'NY kim'}"
      ]
     },
     "execution_count": 289,
     "metadata": {},
     "output_type": "execute_result"
    }
   ],
   "source": [
    "myfamily"
   ]
  },
  {
   "cell_type": "code",
   "execution_count": 290,
   "metadata": {
    "collapsed": false
   },
   "outputs": [
    {
     "data": {
      "text/plain": [
       "['mother', 'twin1', 'twin2', 'grandfather', 'grandmother']"
      ]
     },
     "execution_count": 290,
     "metadata": {},
     "output_type": "execute_result"
    }
   ],
   "source": [
    "# 모든 key와 value의 쌍을 list로 반환하고 싶다면,\n",
    "# 하지만, 이 경우에는 key값만 list로 반환된다.\n",
    "list(myfamily)"
   ]
  },
  {
   "cell_type": "code",
   "execution_count": 291,
   "metadata": {
    "collapsed": false
   },
   "outputs": [
    {
     "data": {
      "text/plain": [
       "[('mother', 'SY Park'),\n",
       " ('twin1', 'GY Kim'),\n",
       " ('twin2', 'NY kim'),\n",
       " ('grandfather', 'SD Kim'),\n",
       " ('grandmother', 'SA Song')]"
      ]
     },
     "execution_count": 291,
     "metadata": {},
     "output_type": "execute_result"
    }
   ],
   "source": [
    "# 전체는 list로 반환되는데, 각 key와 value는 tuple로 반환된다.\n",
    "list(myfamily.items()) "
   ]
  },
  {
   "cell_type": "code",
   "execution_count": 292,
   "metadata": {
    "collapsed": false
   },
   "outputs": [
    {
     "data": {
      "text/plain": [
       "{'grandfather': 'SD Kim',\n",
       " 'grandmother': 'SA Song',\n",
       " 'mother': 'SY Park',\n",
       " 'twin1': 'GY Kim',\n",
       " 'twin2': 'NY kim'}"
      ]
     },
     "execution_count": 292,
     "metadata": {},
     "output_type": "execute_result"
    }
   ],
   "source": [
    "myfamily"
   ]
  },
  {
   "cell_type": "code",
   "execution_count": 294,
   "metadata": {
    "collapsed": false
   },
   "outputs": [
    {
     "data": {
      "text/plain": [
       "{'father': 'JG Kim',\n",
       " 'grandfather': 'SD Kim',\n",
       " 'grandmother': 'SA Song',\n",
       " 'mother': 'SY Park',\n",
       " 'twin1': 'GY Kim',\n",
       " 'twin2': 'NY kim'}"
      ]
     },
     "execution_count": 294,
     "metadata": {},
     "output_type": "execute_result"
    }
   ],
   "source": [
    "# 할당 \n",
    "# myfamily2가 myfamily로 부터 할당을 받고 나서 myfamily 데이터 변경이 되어 myfamiliy2에도 영향을 미침\n",
    "myfamily2 = myfamily\n",
    "myfamily['father'] = 'JG Kim'\n",
    "myfamily2\n"
   ]
  },
  {
   "cell_type": "code",
   "execution_count": 296,
   "metadata": {
    "collapsed": false
   },
   "outputs": [
    {
     "data": {
      "text/plain": [
       "{'father': 'JG Kim',\n",
       " 'grandfather': 'SD Kim',\n",
       " 'grandmother': 'SA Song',\n",
       " 'mother': 'SY Park',\n",
       " 'somebody': 'somebody',\n",
       " 'twin1': 'GY Kim',\n",
       " 'twin2': 'NY kim'}"
      ]
     },
     "execution_count": 296,
     "metadata": {},
     "output_type": "execute_result"
    }
   ],
   "source": [
    "# 복사\n",
    "# \n",
    "myfamily2 = myfamily.copy()\n",
    "myfamily['somebody'] = 'somebody'\n",
    "myfamily\n",
    "\n"
   ]
  },
  {
   "cell_type": "code",
   "execution_count": 297,
   "metadata": {
    "collapsed": false
   },
   "outputs": [
    {
     "data": {
      "text/plain": [
       "{'father': 'JG Kim',\n",
       " 'grandfather': 'SD Kim',\n",
       " 'grandmother': 'SA Song',\n",
       " 'mother': 'SY Park',\n",
       " 'twin1': 'GY Kim',\n",
       " 'twin2': 'NY kim'}"
      ]
     },
     "execution_count": 297,
     "metadata": {},
     "output_type": "execute_result"
    }
   ],
   "source": [
    "myfamily2"
   ]
  },
  {
   "cell_type": "code",
   "execution_count": null,
   "metadata": {
    "collapsed": true
   },
   "outputs": [],
   "source": [
    "# 모든 항목 삭제하기\n",
    "myfamily.clear()\n",
    "myfamily"
   ]
  },
  {
   "cell_type": "markdown",
   "metadata": {},
   "source": [
    "** TIPS **  \n",
    "딕셔너리의 키는 불변하기 때문에 추가/수정/삭제가 되는 리스트, 딕셔너리, 셋은 다른 딕셔너리의 키가 될 수 없다.   \n",
    "하지만, 튜플은 딕셔너리의 키가 될 수 있다  \n",
    "관심있는 장소를 위도, 경도, 고도로 인덱싱할 때 가능"
   ]
  },
  {
   "cell_type": "code",
   "execution_count": 395,
   "metadata": {
    "collapsed": false
   },
   "outputs": [
    {
     "data": {
      "text/plain": [
       "{(38.89, -77.03, 13): 'The White House', (44.79, -93.14, 285): 'My House'}"
      ]
     },
     "execution_count": 395,
     "metadata": {},
     "output_type": "execute_result"
    }
   ],
   "source": [
    "houses = {\n",
    "    (44.79, -93.14, 285):'My House',\n",
    "    (38.89, -77.03, 13):'The White House'\n",
    "}\n",
    "houses"
   ]
  },
  {
   "cell_type": "markdown",
   "metadata": {},
   "source": [
    "## 4. 셋(set)\n",
    "set은 값은 dict의 key에 해당하며, dict과 동일하게 unique해야 한다.  \n",
    "어떤 것이 존재하는지 여부만 판단하기 위해서 사용함  \n",
    "집합에서 합집합, 교집합 등의 표현에 사용할 수 있으며,  \n",
    "sql측면에서는 inner join, right outer join, left outer join 등으로 표현할 수 있다"
   ]
  },
  {
   "cell_type": "markdown",
   "metadata": {
    "collapsed": true
   },
   "source": [
    "** set 생성하기 **"
   ]
  },
  {
   "cell_type": "code",
   "execution_count": 299,
   "metadata": {
    "collapsed": false,
    "scrolled": true
   },
   "outputs": [
    {
     "data": {
      "text/plain": [
       "set()"
      ]
     },
     "execution_count": 299,
     "metadata": {},
     "output_type": "execute_result"
    }
   ],
   "source": [
    "empty_set = set()\n",
    "empty_set"
   ]
  },
  {
   "cell_type": "code",
   "execution_count": 305,
   "metadata": {
    "collapsed": false
   },
   "outputs": [
    {
     "data": {
      "text/plain": [
       "dict"
      ]
     },
     "execution_count": 305,
     "metadata": {},
     "output_type": "execute_result"
    }
   ],
   "source": [
    "# set의 경우에 {}으로 생성할 경우, dictionary로 생성이 되기 때문에 set()함수로 생성해준다.\n",
    "empty_set = {}\n",
    "type(empty_set)"
   ]
  },
  {
   "cell_type": "code",
   "execution_count": 309,
   "metadata": {
    "collapsed": false
   },
   "outputs": [
    {
     "name": "stdout",
     "output_type": "stream",
     "text": [
      "{0, 2, 4, 6, 8} <class 'set'>\n",
      "{1, 3, 5, 7, 9} <class 'set'>\n"
     ]
    }
   ],
   "source": [
    "evenNumber = {0,2,4,6,8}\n",
    "oddNumber = {1,3,5,7,9}\n",
    "print(evenNumber, type(evenNumber))\n",
    "print(oddNumber, type(oddNumber))"
   ]
  },
  {
   "cell_type": "markdown",
   "metadata": {},
   "source": [
    "** 데이터 타입(형) 변환 **  \n",
    "리스트, 문자열, 튜플, 딕셔너리로 부터 중복된 값을 버린 셋(교집합)을 생성할 수 있음"
   ]
  },
  {
   "cell_type": "code",
   "execution_count": 311,
   "metadata": {
    "collapsed": false
   },
   "outputs": [
    {
     "data": {
      "text/plain": [
       "{'a', 'e', 'l', 'p'}"
      ]
     },
     "execution_count": 311,
     "metadata": {},
     "output_type": "execute_result"
    }
   ],
   "source": [
    "set('apple')"
   ]
  },
  {
   "cell_type": "code",
   "execution_count": 313,
   "metadata": {
    "collapsed": false
   },
   "outputs": [
    {
     "data": {
      "text/plain": [
       "{'apple', 'banana', 'grape'}"
      ]
     },
     "execution_count": 313,
     "metadata": {},
     "output_type": "execute_result"
    }
   ],
   "source": [
    "set(['apple','banana','apple','grape'])"
   ]
  },
  {
   "cell_type": "code",
   "execution_count": 315,
   "metadata": {
    "collapsed": false
   },
   "outputs": [
    {
     "data": {
      "text/plain": [
       "{'apple', 'banana', 'grape'}"
      ]
     },
     "execution_count": 315,
     "metadata": {},
     "output_type": "execute_result"
    }
   ],
   "source": [
    "set(('apple','banana','apple','grape'))"
   ]
  },
  {
   "cell_type": "code",
   "execution_count": 317,
   "metadata": {
    "collapsed": false
   },
   "outputs": [
    {
     "data": {
      "text/plain": [
       "{'apple', 'banana', 'grape'}"
      ]
     },
     "execution_count": 317,
     "metadata": {},
     "output_type": "execute_result"
    }
   ],
   "source": [
    "set({'apple':'red','banana':'yellow','grape':'grape'})"
   ]
  },
  {
   "cell_type": "markdown",
   "metadata": {},
   "source": [
    "** 조합(combination) **"
   ]
  },
  {
   "cell_type": "markdown",
   "metadata": {},
   "source": [
    "  ** 1) set intersaction operator(교집합) : &(임퍼샌드) **"
   ]
  },
  {
   "cell_type": "code",
   "execution_count": 320,
   "metadata": {
    "collapsed": false
   },
   "outputs": [
    {
     "data": {
      "text/plain": [
       "{2}"
      ]
     },
     "execution_count": 320,
     "metadata": {},
     "output_type": "execute_result"
    }
   ],
   "source": [
    "# 예제1\n",
    "a = {1,2};b = {2,3}\n",
    "a&b"
   ]
  },
  {
   "cell_type": "code",
   "execution_count": 345,
   "metadata": {
    "collapsed": false
   },
   "outputs": [
    {
     "data": {
      "text/plain": [
       "{2}"
      ]
     },
     "execution_count": 345,
     "metadata": {},
     "output_type": "execute_result"
    }
   ],
   "source": [
    "a.intersection(b)"
   ]
  },
  {
   "cell_type": "code",
   "execution_count": 324,
   "metadata": {
    "collapsed": false
   },
   "outputs": [
    {
     "data": {
      "text/plain": [
       "dict"
      ]
     },
     "execution_count": 324,
     "metadata": {},
     "output_type": "execute_result"
    }
   ],
   "source": [
    "# 예제2\n",
    "# 전체적으로 dict type이며, value값에는 set type으로 정의되어 있다\n",
    "drinks = {\n",
    "    'martini' : {'vodka','vermouth'},\n",
    "    'black russian' : {'vodka','kahlua'},\n",
    "    'white russian' : {'cream','kahlua','vodka'},\n",
    "    'manhattan' : {'rye','vermouth','bitters'},\n",
    "    'screwdriver' : {'orange juice','vodka'}\n",
    "}\n",
    "type(drinks)"
   ]
  },
  {
   "cell_type": "code",
   "execution_count": 329,
   "metadata": {
    "collapsed": false
   },
   "outputs": [
    {
     "name": "stdout",
     "output_type": "stream",
     "text": [
      "martini\n",
      "black russian\n",
      "white russian\n",
      "screwdriver\n"
     ]
    }
   ],
   "source": [
    "# vodka가 포함된 음료는?\n",
    "# set이 아닌 일반적인 조건 구문으로 처리함.\n",
    "for key, value in drinks.items():\n",
    "    if 'vodka' in value:\n",
    "        print(key)"
   ]
  },
  {
   "cell_type": "code",
   "execution_count": 339,
   "metadata": {
    "collapsed": false
   },
   "outputs": [
    {
     "name": "stdout",
     "output_type": "stream",
     "text": [
      "martini\n",
      "black russian\n",
      "white russian\n",
      "screwdriver\n"
     ]
    }
   ],
   "source": [
    "# vodka가 포함된 음료는?\n",
    "# set을 이용한 것이 코드가 좀 더 간결해진다.\n",
    "for key, value in drinks.items():\n",
    "    if {'vodka'} & value:\n",
    "        print(key)"
   ]
  },
  {
   "cell_type": "code",
   "execution_count": 340,
   "metadata": {
    "collapsed": false
   },
   "outputs": [
    {
     "name": "stdout",
     "output_type": "stream",
     "text": [
      "black russian\n",
      "screwdriver\n"
     ]
    }
   ],
   "source": [
    "# vodka를 원하지만, vermouth나 cream이 들어가지 않는 음료는?\n",
    "# set이 아닌 일반적인 조건 구문으로 처리함.\n",
    "for key, value in drinks.items():\n",
    "    if 'vodka' in value and not ('vermouth' in value or 'cream' in value):\n",
    "        print(key)\n"
   ]
  },
  {
   "cell_type": "code",
   "execution_count": 341,
   "metadata": {
    "collapsed": false
   },
   "outputs": [
    {
     "name": "stdout",
     "output_type": "stream",
     "text": [
      "black russian\n",
      "screwdriver\n"
     ]
    }
   ],
   "source": [
    "# vodka를 원하지만, vermouth나 cream이 들어가지 않는 음료는?\n",
    "# set을 이용한 것이 코드가 좀 더 간결해진다.\n",
    "for key, value in drinks.items():\n",
    "    if 'vodka' in value and not value & {'vermouth', 'cream'}:\n",
    "        print(key)"
   ]
  },
  {
   "cell_type": "code",
   "execution_count": 346,
   "metadata": {
    "collapsed": false
   },
   "outputs": [
    {
     "name": "stdout",
     "output_type": "stream",
     "text": [
      "{'vodka', 'kahlua'}\n",
      "{'cream', 'vodka', 'kahlua'}\n"
     ]
    }
   ],
   "source": [
    "# 뒤에서 사용하기 위해 변수 생성\n",
    "bruss = drinks['black russian']\n",
    "wruss = drinks['white russian']\n",
    "print(bruss)\n",
    "print(wruss)"
   ]
  },
  {
   "cell_type": "code",
   "execution_count": 347,
   "metadata": {
    "collapsed": false
   },
   "outputs": [
    {
     "data": {
      "text/plain": [
       "{'kahlua', 'vodka'}"
      ]
     },
     "execution_count": 347,
     "metadata": {},
     "output_type": "execute_result"
    }
   ],
   "source": [
    "bruss & wruss"
   ]
  },
  {
   "cell_type": "code",
   "execution_count": 348,
   "metadata": {
    "collapsed": false
   },
   "outputs": [
    {
     "data": {
      "text/plain": [
       "{'kahlua', 'vodka'}"
      ]
     },
     "execution_count": 348,
     "metadata": {},
     "output_type": "execute_result"
    }
   ],
   "source": [
    "bruss.intersection(wruss)"
   ]
  },
  {
   "cell_type": "markdown",
   "metadata": {},
   "source": [
    "** 2) set union operator(합집합) : '|' **"
   ]
  },
  {
   "cell_type": "code",
   "execution_count": 355,
   "metadata": {
    "collapsed": false
   },
   "outputs": [
    {
     "data": {
      "text/plain": [
       "{1, 2, 3}"
      ]
     },
     "execution_count": 355,
     "metadata": {},
     "output_type": "execute_result"
    }
   ],
   "source": [
    "a|b"
   ]
  },
  {
   "cell_type": "code",
   "execution_count": 356,
   "metadata": {
    "collapsed": false
   },
   "outputs": [
    {
     "data": {
      "text/plain": [
       "{1, 2, 3}"
      ]
     },
     "execution_count": 356,
     "metadata": {},
     "output_type": "execute_result"
    }
   ],
   "source": [
    "a.union(b)"
   ]
  },
  {
   "cell_type": "code",
   "execution_count": 357,
   "metadata": {
    "collapsed": false
   },
   "outputs": [
    {
     "data": {
      "text/plain": [
       "{'cream', 'kahlua', 'vodka'}"
      ]
     },
     "execution_count": 357,
     "metadata": {},
     "output_type": "execute_result"
    }
   ],
   "source": [
    "bruss|wruss"
   ]
  },
  {
   "cell_type": "code",
   "execution_count": 358,
   "metadata": {
    "collapsed": false
   },
   "outputs": [
    {
     "data": {
      "text/plain": [
       "{'cream', 'kahlua', 'vodka'}"
      ]
     },
     "execution_count": 358,
     "metadata": {},
     "output_type": "execute_result"
    }
   ],
   "source": [
    "bruss.union(wruss)"
   ]
  },
  {
   "cell_type": "markdown",
   "metadata": {},
   "source": [
    "** 3) set difference operator(차집합) : '-' **"
   ]
  },
  {
   "cell_type": "code",
   "execution_count": 359,
   "metadata": {
    "collapsed": false
   },
   "outputs": [
    {
     "data": {
      "text/plain": [
       "{1}"
      ]
     },
     "execution_count": 359,
     "metadata": {},
     "output_type": "execute_result"
    }
   ],
   "source": [
    "a-b"
   ]
  },
  {
   "cell_type": "code",
   "execution_count": 360,
   "metadata": {
    "collapsed": false
   },
   "outputs": [
    {
     "data": {
      "text/plain": [
       "{3}"
      ]
     },
     "execution_count": 360,
     "metadata": {},
     "output_type": "execute_result"
    }
   ],
   "source": [
    "b-a"
   ]
  },
  {
   "cell_type": "code",
   "execution_count": 363,
   "metadata": {
    "collapsed": false
   },
   "outputs": [
    {
     "data": {
      "text/plain": [
       "set()"
      ]
     },
     "execution_count": 363,
     "metadata": {},
     "output_type": "execute_result"
    }
   ],
   "source": [
    "# 결과가 공집합이므로 set()으로 표현되었다\n",
    "bruss-wruss"
   ]
  },
  {
   "cell_type": "code",
   "execution_count": 364,
   "metadata": {
    "collapsed": false
   },
   "outputs": [
    {
     "data": {
      "text/plain": [
       "{'cream'}"
      ]
     },
     "execution_count": 364,
     "metadata": {},
     "output_type": "execute_result"
    }
   ],
   "source": [
    "wruss-bruss"
   ]
  },
  {
   "cell_type": "markdown",
   "metadata": {},
   "source": [
    "** 4) set symmetric_difference operator(대칭차집합) : '^' **  \n",
    "한쪽 셋에는 들어있지만 양쪽 모두에 들어있지 않은 항목  \n",
    "Uinon(합집합) - intersection(차집합)"
   ]
  },
  {
   "cell_type": "code",
   "execution_count": 367,
   "metadata": {
    "collapsed": false
   },
   "outputs": [
    {
     "name": "stdout",
     "output_type": "stream",
     "text": [
      "{1, 2}\n",
      "{2, 3}\n"
     ]
    },
    {
     "data": {
      "text/plain": [
       "{1, 3}"
      ]
     },
     "execution_count": 367,
     "metadata": {},
     "output_type": "execute_result"
    }
   ],
   "source": [
    "# {1,2,3}-{2} = {1,3}\n",
    "print(a)\n",
    "print(b)\n",
    "a^b"
   ]
  },
  {
   "cell_type": "code",
   "execution_count": 368,
   "metadata": {
    "collapsed": false
   },
   "outputs": [
    {
     "data": {
      "text/plain": [
       "{1, 3}"
      ]
     },
     "execution_count": 368,
     "metadata": {},
     "output_type": "execute_result"
    }
   ],
   "source": [
    "a.symmetric_difference(b)"
   ]
  },
  {
   "cell_type": "code",
   "execution_count": 369,
   "metadata": {
    "collapsed": false
   },
   "outputs": [
    {
     "data": {
      "text/plain": [
       "{'cream'}"
      ]
     },
     "execution_count": 369,
     "metadata": {},
     "output_type": "execute_result"
    }
   ],
   "source": [
    "bruss ^ wruss"
   ]
  },
  {
   "cell_type": "code",
   "execution_count": 370,
   "metadata": {
    "collapsed": false
   },
   "outputs": [
    {
     "data": {
      "text/plain": [
       "{'cream'}"
      ]
     },
     "execution_count": 370,
     "metadata": {},
     "output_type": "execute_result"
    }
   ],
   "source": [
    "bruss.symmetric_difference(wruss)"
   ]
  },
  {
   "cell_type": "markdown",
   "metadata": {},
   "source": [
    "** 5) set subset operator(부분집합) : '<=' **  \n",
    "첫 번째 셋이 두번째 셋의 서브셋인가?"
   ]
  },
  {
   "cell_type": "code",
   "execution_count": 371,
   "metadata": {
    "collapsed": false
   },
   "outputs": [
    {
     "name": "stdout",
     "output_type": "stream",
     "text": [
      "{1, 2}\n",
      "{2, 3}\n"
     ]
    },
    {
     "data": {
      "text/plain": [
       "False"
      ]
     },
     "execution_count": 371,
     "metadata": {},
     "output_type": "execute_result"
    }
   ],
   "source": [
    "print(a)\n",
    "print(b)\n",
    "a <= b"
   ]
  },
  {
   "cell_type": "code",
   "execution_count": 377,
   "metadata": {
    "collapsed": false
   },
   "outputs": [
    {
     "data": {
      "text/plain": [
       "False"
      ]
     },
     "execution_count": 377,
     "metadata": {},
     "output_type": "execute_result"
    }
   ],
   "source": [
    "wruss.issubset(bruss)"
   ]
  },
  {
   "cell_type": "code",
   "execution_count": 375,
   "metadata": {
    "collapsed": false,
    "scrolled": true
   },
   "outputs": [
    {
     "name": "stdout",
     "output_type": "stream",
     "text": [
      "{'vodka', 'kahlua'}\n",
      "{'cream', 'vodka', 'kahlua'}\n"
     ]
    },
    {
     "data": {
      "text/plain": [
       "True"
      ]
     },
     "execution_count": 375,
     "metadata": {},
     "output_type": "execute_result"
    }
   ],
   "source": [
    "print(bruss)\n",
    "print(wruss)\n",
    "bruss <= wruss"
   ]
  },
  {
   "cell_type": "code",
   "execution_count": 376,
   "metadata": {
    "collapsed": false
   },
   "outputs": [
    {
     "data": {
      "text/plain": [
       "True"
      ]
     },
     "execution_count": 376,
     "metadata": {},
     "output_type": "execute_result"
    }
   ],
   "source": [
    "bruss.issubset(wruss)"
   ]
  },
  {
   "cell_type": "markdown",
   "metadata": {},
   "source": [
    "** 6) set superset operator(슈퍼집합) : '>=' **  \n",
    "첫 번째 셋이 두번째 셋의 슈퍼셋인가?, 부분집합 반대개념"
   ]
  },
  {
   "cell_type": "code",
   "execution_count": 372,
   "metadata": {
    "collapsed": false
   },
   "outputs": [
    {
     "name": "stdout",
     "output_type": "stream",
     "text": [
      "{1, 2}\n",
      "{2, 3}\n"
     ]
    },
    {
     "data": {
      "text/plain": [
       "False"
      ]
     },
     "execution_count": 372,
     "metadata": {},
     "output_type": "execute_result"
    }
   ],
   "source": [
    "print(a)\n",
    "print(b)\n",
    "a >= b"
   ]
  },
  {
   "cell_type": "code",
   "execution_count": 380,
   "metadata": {
    "collapsed": false
   },
   "outputs": [
    {
     "data": {
      "text/plain": [
       "False"
      ]
     },
     "execution_count": 380,
     "metadata": {},
     "output_type": "execute_result"
    }
   ],
   "source": [
    "a.issuperset(b)"
   ]
  },
  {
   "cell_type": "code",
   "execution_count": 374,
   "metadata": {
    "collapsed": false,
    "scrolled": true
   },
   "outputs": [
    {
     "name": "stdout",
     "output_type": "stream",
     "text": [
      "{'vodka', 'kahlua'}\n",
      "{'cream', 'vodka', 'kahlua'}\n"
     ]
    },
    {
     "data": {
      "text/plain": [
       "False"
      ]
     },
     "execution_count": 374,
     "metadata": {},
     "output_type": "execute_result"
    }
   ],
   "source": [
    "print(bruss)\n",
    "print(wruss)\n",
    "bruss >= wruss"
   ]
  },
  {
   "cell_type": "code",
   "execution_count": 381,
   "metadata": {
    "collapsed": false
   },
   "outputs": [
    {
     "data": {
      "text/plain": [
       "False"
      ]
     },
     "execution_count": 381,
     "metadata": {},
     "output_type": "execute_result"
    }
   ],
   "source": [
    "bruss.issuperset(wruss)"
   ]
  },
  {
   "cell_type": "markdown",
   "metadata": {},
   "source": [
    "** 7) set proper subset operator(진부분집합) : '<' **"
   ]
  },
  {
   "cell_type": "code",
   "execution_count": 383,
   "metadata": {
    "collapsed": false
   },
   "outputs": [
    {
     "data": {
      "text/plain": [
       "False"
      ]
     },
     "execution_count": 383,
     "metadata": {},
     "output_type": "execute_result"
    }
   ],
   "source": [
    "a < b"
   ]
  },
  {
   "cell_type": "code",
   "execution_count": 384,
   "metadata": {
    "collapsed": false
   },
   "outputs": [
    {
     "data": {
      "text/plain": [
       "True"
      ]
     },
     "execution_count": 384,
     "metadata": {},
     "output_type": "execute_result"
    }
   ],
   "source": [
    "bruss < wruss"
   ]
  },
  {
   "cell_type": "markdown",
   "metadata": {},
   "source": [
    "** 8) set proper superset operator(진슈퍼셋집합) : '>' **"
   ]
  },
  {
   "cell_type": "code",
   "execution_count": 386,
   "metadata": {
    "collapsed": false
   },
   "outputs": [
    {
     "data": {
      "text/plain": [
       "False"
      ]
     },
     "execution_count": 386,
     "metadata": {},
     "output_type": "execute_result"
    }
   ],
   "source": [
    "a>b"
   ]
  },
  {
   "cell_type": "code",
   "execution_count": 388,
   "metadata": {
    "collapsed": false
   },
   "outputs": [
    {
     "data": {
      "text/plain": [
       "False"
      ]
     },
     "execution_count": 388,
     "metadata": {},
     "output_type": "execute_result"
    }
   ],
   "source": [
    "bruss > wruss"
   ]
  }
 ],
 "metadata": {
  "kernelspec": {
   "display_name": "Python 3",
   "language": "python",
   "name": "python3"
  },
  "language_info": {
   "codemirror_mode": {
    "name": "ipython",
    "version": 3
   },
   "file_extension": ".py",
   "mimetype": "text/x-python",
   "name": "python",
   "nbconvert_exporter": "python",
   "pygments_lexer": "ipython3",
   "version": "3.6.0"
  }
 },
 "nbformat": 4,
 "nbformat_minor": 2
}
