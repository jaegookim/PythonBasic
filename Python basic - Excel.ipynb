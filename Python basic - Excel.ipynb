{
 "cells": [
  {
   "cell_type": "markdown",
   "metadata": {},
   "source": [
    "# 파이썬으로 엑셀 다루기"
   ]
  },
  {
   "cell_type": "markdown",
   "metadata": {},
   "source": [
    "## 1. COM(Component Object Model)을 이용하여 다루기\n",
    "\n",
    "COM은 Microsoft에서 개발한 기술이며 컴포넌트 객체를 이용하여 프로그램을 개발하는 모델을 의미  \n",
    "컴포넌트 객체는 파이썬에서 클래스로 부터 만들어지는 객체와 유사한 것으로 이해하자  \n",
    "파이썬에서 COM 기술을 이용하면 프로그래밍 언어와 상관없이 개발된 객체를 사용할 수 있게 해주며,  \n",
    "엑셀 프로그램을 직접 실행할 필요없이 처리 가능(C++ 언어로 개발된 객체도 파이썬에서 사용 가능)"
   ]
  },
  {
   "cell_type": "markdown",
   "metadata": {},
   "source": [
    "### 1) 엑셀 파일 생성, 실행, 데이터 입력, 서식 다루기, 저장 및 종료"
   ]
  },
  {
   "cell_type": "code",
   "execution_count": 11,
   "metadata": {
    "collapsed": true
   },
   "outputs": [],
   "source": [
    "import win32com.client\n",
    "excel = win32com.client.Dispatch(\"Excel.Application\")\n",
    "excel.Visible = True"
   ]
  },
  {
   "cell_type": "code",
   "execution_count": 14,
   "metadata": {
    "collapsed": true
   },
   "outputs": [],
   "source": [
    "wb = excel.Workbooks.Add()\n",
    "ws = wb.Worksheets(\"Sheet1\")"
   ]
  },
  {
   "cell_type": "code",
   "execution_count": 23,
   "metadata": {
    "collapsed": true
   },
   "outputs": [],
   "source": [
    "# 엑셀에 데이터 입력 \n",
    "# Cells(row,column) 또는 Range(\"A1\") 사용\n",
    "ws.Cells(1,1).Value = \"Python is \"\n",
    "ws.Cells(1,2).Value = \"good \"\n",
    "ws.Range(\"C1\").Value = \"a programming \"\n",
    "ws.Range(\"D1\").Value = \"language.\""
   ]
  },
  {
   "cell_type": "code",
   "execution_count": 24,
   "metadata": {
    "collapsed": true
   },
   "outputs": [],
   "source": [
    "# 셀에 색상입히기\n",
    "# 함수는 excel vba와 동일하기에 excel macro를 이용하거나 구글 검색하여 작성하자!!\n",
    "ws.Range(\"B1\").Interior.ColorIndex = 10 # green\n",
    "ws.Range(\"C1:D1\").Interior.ColorIndex = 27 # yello"
   ]
  },
  {
   "cell_type": "code",
   "execution_count": 27,
   "metadata": {
    "collapsed": true
   },
   "outputs": [],
   "source": [
    "ws.SaveAs('C:\\\\Users\\\\rs999\\\\Desktop\\\\example01.xlsx')"
   ]
  },
  {
   "cell_type": "code",
   "execution_count": 28,
   "metadata": {
    "collapsed": false
   },
   "outputs": [],
   "source": [
    "excel.Quit()"
   ]
  },
  {
   "cell_type": "markdown",
   "metadata": {},
   "source": [
    "### 2) 엑셀 파일 읽기"
   ]
  },
  {
   "cell_type": "code",
   "execution_count": 2,
   "metadata": {
    "collapsed": true
   },
   "outputs": [],
   "source": [
    "import win32com.client\n",
    "excel = win32com.client.Dispatch(\"Excel.Application\")\n",
    "excel.Visible = True"
   ]
  },
  {
   "cell_type": "code",
   "execution_count": 3,
   "metadata": {
    "collapsed": false,
    "scrolled": true
   },
   "outputs": [
    {
     "name": "stdout",
     "output_type": "stream",
     "text": [
      "(('Python is ', 'good ', 'a programming ', 'language.'),)\n"
     ]
    },
    {
     "ename": "TypeError",
     "evalue": "sequence item 0: expected str instance, tuple found",
     "output_type": "error",
     "traceback": [
      "\u001b[0;31m---------------------------------------------------------------------------\u001b[0m",
      "\u001b[0;31mTypeError\u001b[0m                                 Traceback (most recent call last)",
      "\u001b[0;32m<ipython-input-3-9628f237ab6d>\u001b[0m in \u001b[0;36m<module>\u001b[0;34m()\u001b[0m\n\u001b[1;32m      3\u001b[0m \u001b[1;31m#ws = wb.Worksheets(\"Sheet1\")\u001b[0m\u001b[1;33m\u001b[0m\u001b[1;33m\u001b[0m\u001b[0m\n\u001b[1;32m      4\u001b[0m \u001b[0mprint\u001b[0m\u001b[1;33m(\u001b[0m\u001b[0mws\u001b[0m\u001b[1;33m.\u001b[0m\u001b[0mRange\u001b[0m\u001b[1;33m(\u001b[0m\u001b[1;34m\"A1:D1\"\u001b[0m\u001b[1;33m)\u001b[0m\u001b[1;33m.\u001b[0m\u001b[0mValue\u001b[0m\u001b[1;33m)\u001b[0m\u001b[1;33m\u001b[0m\u001b[0m\n\u001b[0;32m----> 5\u001b[0;31m \u001b[0mprint\u001b[0m\u001b[1;33m(\u001b[0m\u001b[1;34m''\u001b[0m\u001b[1;33m.\u001b[0m\u001b[0mjoin\u001b[0m\u001b[1;33m(\u001b[0m\u001b[0mws\u001b[0m\u001b[1;33m.\u001b[0m\u001b[0mRange\u001b[0m\u001b[1;33m(\u001b[0m\u001b[1;34m\"A1:D1\"\u001b[0m\u001b[1;33m)\u001b[0m\u001b[1;33m.\u001b[0m\u001b[0mValue\u001b[0m\u001b[1;33m)\u001b[0m\u001b[1;33m)\u001b[0m\u001b[1;33m\u001b[0m\u001b[0m\n\u001b[0m",
      "\u001b[0;31mTypeError\u001b[0m: sequence item 0: expected str instance, tuple found"
     ]
    }
   ],
   "source": [
    "wb = excel.Workbooks.open('C:\\\\Users\\\\rs999\\\\Desktop\\\\example01.xlsx')\n",
    "ws = wb.ActiveSheet\n",
    "#ws = wb.Worksheets(\"Sheet1\")\n",
    "print(ws.Range(\"A1:D1\").Value)"
   ]
  },
  {
   "cell_type": "code",
   "execution_count": 39,
   "metadata": {
    "collapsed": true
   },
   "outputs": [],
   "source": [
    "excel.Quit()"
   ]
  },
  {
   "cell_type": "markdown",
   "metadata": {},
   "source": [
    "## 2. pandas package를 이용하여 엑셀파일 생성"
   ]
  },
  {
   "cell_type": "code",
   "execution_count": 40,
   "metadata": {
    "collapsed": true
   },
   "outputs": [],
   "source": [
    "import pandas as pd"
   ]
  },
  {
   "cell_type": "code",
   "execution_count": 56,
   "metadata": {
    "collapsed": true
   },
   "outputs": [],
   "source": [
    "mylist = []\n",
    "mylist.append(['Python is', 'good ', 'a programming ','language.'])\n",
    "mylist.append(['Python is', 'good ', 'a programming ','language.'])\n",
    "mylist.append(['Python is', 'good ', 'a programming ','language.'])              \n",
    "result = pd.DataFrame(mylist)"
   ]
  },
  {
   "cell_type": "code",
   "execution_count": 57,
   "metadata": {
    "collapsed": true
   },
   "outputs": [],
   "source": [
    "writer = pd.ExcelWriter('C:\\\\Users\\\\rs999\\\\Desktop\\\\example02.xlsx')"
   ]
  },
  {
   "cell_type": "code",
   "execution_count": 58,
   "metadata": {
    "collapsed": false
   },
   "outputs": [],
   "source": [
    "result.to_excel(excel_writer=writer, sheet_name='Sheet1', columns=None)"
   ]
  },
  {
   "cell_type": "code",
   "execution_count": 59,
   "metadata": {
    "collapsed": false
   },
   "outputs": [],
   "source": [
    "writer.save()"
   ]
  }
 ],
 "metadata": {
  "kernelspec": {
   "display_name": "Python 3",
   "language": "python",
   "name": "python3"
  },
  "language_info": {
   "codemirror_mode": {
    "name": "ipython",
    "version": 3
   },
   "file_extension": ".py",
   "mimetype": "text/x-python",
   "name": "python",
   "nbconvert_exporter": "python",
   "pygments_lexer": "ipython3",
   "version": "3.6.0"
  }
 },
 "nbformat": 4,
 "nbformat_minor": 2
}
